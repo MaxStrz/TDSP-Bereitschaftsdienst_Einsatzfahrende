{
 "cells": [
  {
   "cell_type": "code",
   "execution_count": 1,
   "id": "34619f5d-6b5c-4e53-92a9-c7b34148d889",
   "metadata": {},
   "outputs": [],
   "source": [
    "from datetime import datetime\n",
    "\n",
    "import mlflow\n",
    "from mlflow.data.pandas_dataset import PandasDataset\n",
    "from mlflow import MlflowClient\n",
    "from mlflow.entities import ViewType\n",
    "\n",
    "import os\n",
    "import sys\n",
    "import numpy as np\n",
    "import pandas as pd\n",
    "from pathlib import Path\n",
    "from pprint import pprint\n",
    "\n",
    "path_to_analysis = Path(os.getcwd()).parent / 'Analysis'\n",
    "sys.path.append(str(path_to_analysis))\n",
    "from dataPrep import Config, DataPrediction"
   ]
  },
  {
   "cell_type": "code",
   "execution_count": 2,
   "id": "c4b345c0-077d-4b53-81c1-fcde35a34c0f",
   "metadata": {},
   "outputs": [],
   "source": [
    "mlflow.set_tracking_uri(\"http://127.0.0.1:8080\")"
   ]
  },
  {
   "cell_type": "code",
   "execution_count": 3,
   "id": "13d27299-4a37-4df3-bb26-89a6511bfe5c",
   "metadata": {},
   "outputs": [
    {
     "name": "stdout",
     "output_type": "stream",
     "text": [
      "C:\\Users\\maxst\\Dropbox\\Weiterbildung\\IU\\Mods\\FsME\\Prog\\TDSP-BsdEf\\Code\\Analysis\n"
     ]
    }
   ],
   "source": [
    "print(str(path_to_analysis))"
   ]
  },
  {
   "cell_type": "code",
   "execution_count": 4,
   "id": "d7d2c827-fce4-4d8e-8e58-1cd6d2b94175",
   "metadata": {},
   "outputs": [],
   "source": [
    "# Laufendes Experiment definieren\n",
    "experiment_id = \"AdaBooReg\"\n",
    "\n",
    "adabooreg_experiment = mlflow.set_experiment(experiment_id)"
   ]
  },
  {
   "cell_type": "code",
   "execution_count": 5,
   "id": "ad2877c3-f14e-492f-8d2d-3b3f750eaeff",
   "metadata": {},
   "outputs": [],
   "source": [
    "now = datetime.now()\n",
    "now = now.strftime(\"%Y%m%d-%H%M\")\n",
    "run_name = f\"AdaBooReg_{now}\""
   ]
  },
  {
   "cell_type": "code",
   "execution_count": 6,
   "id": "ed9d6647-24e2-4a8b-b295-35d6c7d6a770",
   "metadata": {},
   "outputs": [],
   "source": [
    "artifact_path = \"bereitschaftsdienstplans\""
   ]
  },
  {
   "cell_type": "code",
   "execution_count": 7,
   "id": "883d090e-a2a9-4fb8-8a8b-36d692d6f19e",
   "metadata": {},
   "outputs": [
    {
     "name": "stdout",
     "output_type": "stream",
     "text": [
      "{'column_names_types': {'calls': 'int32',\n",
      "                        'dafted': 'int16',\n",
      "                        'date': 'datetime64[ns]',\n",
      "                        'n_duty': 'int16',\n",
      "                        'n_sby': 'int16',\n",
      "                        'n_sick': 'int16',\n",
      "                        'sby_need': 'int16'},\n",
      " 'features': ('month',\n",
      "              'dayofmonth',\n",
      "              'weekday',\n",
      "              'weekofyear',\n",
      "              'dayofyear',\n",
      "              'season'),\n",
      " 'my_file_name': 'sickness_table.csv'}\n"
     ]
    }
   ],
   "source": [
    "config = Config.dict_config\n",
    "pprint(config)"
   ]
  },
  {
   "cell_type": "code",
   "execution_count": 8,
   "id": "2b2d67d1-b61d-427f-9a18-f4c13bba5169",
   "metadata": {},
   "outputs": [
    {
     "name": "stdout",
     "output_type": "stream",
     "text": [
      "Pfad zur CSV-Datei: sickness_table.csv erstellt.\n",
      "Daten bereinigt und in DataFrame umgewandelt.\n",
      "Daten transformiert\n",
      "Features hinzugefügt\n"
     ]
    }
   ],
   "source": [
    "adabooreg_run_1 = DataPrediction(**config)"
   ]
  },
  {
   "cell_type": "code",
   "execution_count": 9,
   "id": "7845ad3c-1cec-4afa-8e37-2ec255598bdd",
   "metadata": {},
   "outputs": [],
   "source": [
    "fitted_model = adabooreg_run_1.model_adabooreg.adabooreg_ftd"
   ]
  },
  {
   "cell_type": "code",
   "execution_count": 10,
   "id": "9f099565-75e4-4492-a4aa-f22d88f7a060",
   "metadata": {},
   "outputs": [
    {
     "data": {
      "text/plain": [
       "{'mse': 945886.8510638297, 'r2': 0.09761322118437299}"
      ]
     },
     "execution_count": 10,
     "metadata": {},
     "output_type": "execute_result"
    }
   ],
   "source": [
    "metrics = adabooreg_run_1.model_adabooreg.my_metrics\n",
    "metrics"
   ]
  },
  {
   "cell_type": "code",
   "execution_count": 11,
   "id": "1f0cf431-af62-4c9b-8c0b-70b4f8325715",
   "metadata": {},
   "outputs": [
    {
     "name": "stdout",
     "output_type": "stream",
     "text": [
      "      month  dayofmonth  weekday  weekofyear  dayofyear  season\n",
      "1105      4          11        3          15        101       2\n",
      "1106      4          12        4          15        102       2\n",
      "1107      4          13        5          15        103       2\n",
      "1108      4          14        6          15        104       2\n",
      "1109      4          15        0          16        105       2\n"
     ]
    }
   ],
   "source": [
    "X_test = adabooreg_run_1.model_adabooreg.X_test\n",
    "print(X_test.head())"
   ]
  },
  {
   "cell_type": "code",
   "execution_count": 12,
   "id": "98fcd177-4379-4459-a623-63a7fc51fcb8",
   "metadata": {},
   "outputs": [
    {
     "name": "stdout",
     "output_type": "stream",
     "text": [
      "{'adabooreg': {'learning_rate': 0.36, 'n_estimators': 130},\n",
      " 'dtreg': {'criterion': 'squared_error',\n",
      "           'max_depth': 5,\n",
      "           'min_samples_split': 3,\n",
      "           'splitter': 'best'}}\n"
     ]
    }
   ],
   "source": [
    "params = adabooreg_run_1.model_adabooreg.params_dict\n",
    "pprint(params)"
   ]
  },
  {
   "cell_type": "code",
   "execution_count": 26,
   "id": "e4d2e11a-ebcd-47fa-b35f-b05a2f3e607a",
   "metadata": {},
   "outputs": [
    {
     "name": "stdout",
     "output_type": "stream",
     "text": [
      "0   2016-04-01\n",
      "1   2016-04-02\n",
      "2   2016-04-03\n",
      "3   2016-04-04\n",
      "4   2016-04-05\n",
      "Name: date, dtype: datetime64[ns]\n"
     ]
    }
   ],
   "source": [
    "print(adabooreg_run_1.df_features['date'].head())"
   ]
  },
  {
   "cell_type": "code",
   "execution_count": 13,
   "id": "825c0ec4-e70e-4d75-9366-9187fb95de73",
   "metadata": {},
   "outputs": [
    {
     "name": "stdout",
     "output_type": "stream",
     "text": [
      "   month  dayofmonth  weekday  weekofyear  dayofyear  season\n",
      "0      4           1        4          13         92       2\n",
      "1      4           2        5          13         93       2\n",
      "2      4           3        6          13         94       2\n",
      "3      4           4        0          14         95       2\n",
      "4      4           5        1          14         96       2\n"
     ]
    }
   ],
   "source": [
    "print(adabooreg_run_1.df_only_features.head())"
   ]
  },
  {
   "cell_type": "code",
   "execution_count": 14,
   "id": "fae3271c-4025-4f82-9212-75127974a205",
   "metadata": {},
   "outputs": [
    {
     "name": "stdout",
     "output_type": "stream",
     "text": [
      "   month  dayofmonth  weekday  weekofyear  dayofyear  season  \\\n",
      "0      4           1        4          13         92       2   \n",
      "1      4           2        5          13         93       2   \n",
      "2      4           3        6          13         94       2   \n",
      "3      4           4        0          14         95       2   \n",
      "4      4           5        1          14         96       2   \n",
      "\n",
      "   calls_reg_act_diff  \n",
      "0                1095  \n",
      "1                1466  \n",
      "2                1026  \n",
      "3                 -19  \n",
      "4                 171  \n"
     ]
    }
   ],
   "source": [
    "target = adabooreg_run_1.df_pred['calls_reg_act_diff']\n",
    "df_only_features = adabooreg_run_1.df_only_features\n",
    "df_only_features['calls_reg_act_diff'] = target\n",
    "df_features_target = df_only_features.copy()\n",
    "print(df_features_target.head())"
   ]
  },
  {
   "cell_type": "code",
   "execution_count": 15,
   "id": "7eddd829-6484-4de0-bf57-203ea885a62c",
   "metadata": {},
   "outputs": [
    {
     "name": "stdout",
     "output_type": "stream",
     "text": [
      "[1407  720  529 ...  440  469  440]\n"
     ]
    }
   ],
   "source": [
    "y_train = adabooreg_run_1.model_adabooreg.adabooreg_pred_train\n",
    "print(y_train)"
   ]
  },
  {
   "cell_type": "code",
   "execution_count": 16,
   "id": "7f1ec35c-774e-414e-8b36-8031bfac1f0e",
   "metadata": {},
   "outputs": [
    {
     "name": "stdout",
     "output_type": "stream",
     "text": [
      "[ 350  261   32 -353  285  410  377  213   66 -209 -504  271  309  213\n",
      "   67  -97 -416 -624  377  394 1825 1495  980  718  559 1038  827  827\n",
      "  692  567  440   45  732  707  535  431  219   25 -429  473  507  440\n",
      "  271  112  -65 -456  465]\n"
     ]
    }
   ],
   "source": [
    "y_test = adabooreg_run_1.model_adabooreg.adabooreg_pred\n",
    "print(y_test)"
   ]
  },
  {
   "cell_type": "code",
   "execution_count": 17,
   "id": "a9cbf715-2569-4410-aa2f-75aca91f1c7f",
   "metadata": {},
   "outputs": [
    {
     "name": "stdout",
     "output_type": "stream",
     "text": [
      "1152\n"
     ]
    }
   ],
   "source": [
    "predictions = np.concatenate((y_train, y_test))\n",
    "df_features_target['predictions'] = predictions\n",
    "print(len(predictions))"
   ]
  },
  {
   "cell_type": "code",
   "execution_count": 18,
   "id": "50eed238-f15e-448f-89ff-7c4d52a9b42f",
   "metadata": {},
   "outputs": [
    {
     "name": "stdout",
     "output_type": "stream",
     "text": [
      "   month  dayofmonth  weekday  weekofyear  dayofyear  season  \\\n",
      "0      4           1        4          13         92       2   \n",
      "1      4           2        5          13         93       2   \n",
      "2      4           3        6          13         94       2   \n",
      "3      4           4        0          14         95       2   \n",
      "4      4           5        1          14         96       2   \n",
      "\n",
      "   calls_reg_act_diff  predictions  \n",
      "0                1095         1407  \n",
      "1                1466          720  \n",
      "2                1026          529  \n",
      "3                 -19         1337  \n",
      "4                 171          839  \n"
     ]
    }
   ],
   "source": [
    "print(df_features_target.head())"
   ]
  },
  {
   "cell_type": "code",
   "execution_count": 19,
   "id": "2a6e56cd-6dc8-4a01-87c4-bb5c7dd43613",
   "metadata": {},
   "outputs": [
    {
     "name": "stdout",
     "output_type": "stream",
     "text": [
      "[1407  720  529 ...  -65 -456  465]\n"
     ]
    }
   ],
   "source": [
    "print(predictions)"
   ]
  },
  {
   "cell_type": "code",
   "execution_count": 20,
   "id": "e3ecc9dc-87eb-40b3-8bf5-2f9409ec67f0",
   "metadata": {},
   "outputs": [],
   "source": [
    "dataset = mlflow.data.from_pandas(df_features_target, targets='calls_reg_act_diff', predictions='predictions')"
   ]
  },
  {
   "cell_type": "code",
   "execution_count": 21,
   "id": "d9fee669-adb6-40bc-91a9-dd55b21b6783",
   "metadata": {},
   "outputs": [
    {
     "name": "stderr",
     "output_type": "stream",
     "text": [
      "C:\\Users\\maxst\\Dropbox\\Weiterbildung\\IU\\Mods\\FsME\\Prog\\TDSP-BsdEf\\BsdEf_venv\\lib\\site-packages\\mlflow\\data\\pandas_dataset.py:134: UserWarning: Hint: Inferred schema contains integer column(s). Integer columns in Python cannot represent missing values. If your input data contains missing values at inference time, it will be encoded as floats and will cause a schema enforcement error. The best way to avoid this problem is to infer the model schema based on a realistic data sample (training dataset) that includes missing values. Alternatively, you can declare integer columns as doubles (float64) whenever these columns may have missing values. See `Handling Integers With Missing Values <https://www.mlflow.org/docs/latest/models.html#handling-integers-with-missing-values>`_ for more details.\n",
      "  return _infer_schema(self._df)\n",
      "C:\\Users\\maxst\\Dropbox\\Weiterbildung\\IU\\Mods\\FsME\\Prog\\TDSP-BsdEf\\BsdEf_venv\\lib\\site-packages\\mlflow\\models\\signature.py:351: UserWarning: Hint: Inferred schema contains integer column(s). Integer columns in Python cannot represent missing values. If your input data contains missing values at inference time, it will be encoded as floats and will cause a schema enforcement error. The best way to avoid this problem is to infer the model schema based on a realistic data sample (training dataset) that includes missing values. Alternatively, you can declare integer columns as doubles (float64) whenever these columns may have missing values. See `Handling Integers With Missing Values <https://www.mlflow.org/docs/latest/models.html#handling-integers-with-missing-values>`_ for more details.\n",
      "  input_schema = _infer_schema(input_example)\n"
     ]
    }
   ],
   "source": [
    "# Initiate the MLflow run context\n",
    "with mlflow.start_run(run_name=run_name) as run:\n",
    "\n",
    "    # Datensatz protokollieren\n",
    "    mlflow.log_input(dataset)\n",
    "    \n",
    "    # Parameter protokollieren\n",
    "    mlflow.log_params(params)\n",
    "\n",
    "    # Metriks protokollieren\n",
    "    mlflow.log_metrics(metrics)\n",
    "\n",
    "    # trainiertes Modell-Instanz protokollieren\n",
    "    mlflow.sklearn.log_model(\n",
    "        sk_model=fitted_model, \n",
    "        input_example=X_test,\n",
    "        artifact_path=artifact_path\n",
    "    )\n",
    "\n",
    "mlflow.end_run()"
   ]
  },
  {
   "cell_type": "code",
   "execution_count": 22,
   "id": "ece6931e-8a45-49df-b423-ff2be382a397",
   "metadata": {},
   "outputs": [
    {
     "name": "stdout",
     "output_type": "stream",
     "text": [
      "[<Experiment: artifact_location='mlflow-artifacts:/434640519357902442', creation_time=1700060513796, experiment_id='434640519357902442', last_update_time=1700060513796, lifecycle_stage='active', name='AdaBooReg', tags={'jahr': '2019',\n",
      " 'mlflow.note.content': 'AdaBoostRegressor-Vorhersage für Notrufe minus '\n",
      "                        'Regressionsausgabe.',\n",
      " 'month': 'Mai',\n",
      " 'project_name': 'Vorhersagemodell für Einsatzfahrende'}>]\n"
     ]
    }
   ],
   "source": [
    "query = \"attribute.name = 'AdaBooReg'\"\n",
    "exp = mlflow.search_experiments(filter_string=query)\n",
    "pprint(exp)"
   ]
  },
  {
   "cell_type": "code",
   "execution_count": 23,
   "id": "22409cc2-6f9e-4dda-98c6-ebcc67b2a106",
   "metadata": {},
   "outputs": [
    {
     "data": {
      "text/plain": [
       "[<Experiment: artifact_location='mlflow-artifacts:/429532028009648294', creation_time=1700657534185, experiment_id='429532028009648294', last_update_time=1700657534185, lifecycle_stage='active', name='VorhersageModell', tags={}>,\n",
       " <Experiment: artifact_location='mlflow-artifacts:/162309136132002052', creation_time=1700644939220, experiment_id='162309136132002052', last_update_time=1700644939220, lifecycle_stage='active', name='TrendRegression', tags={}>,\n",
       " <Experiment: artifact_location='mlflow-artifacts:/434640519357902442', creation_time=1700060513796, experiment_id='434640519357902442', last_update_time=1700060513796, lifecycle_stage='active', name='AdaBooReg', tags={'jahr': '2019',\n",
       "  'mlflow.note.content': 'AdaBoostRegressor-Vorhersage für Notrufe minus '\n",
       "                         'Regressionsausgabe.',\n",
       "  'month': 'Mai',\n",
       "  'project_name': 'Vorhersagemodell für Einsatzfahrende'}>,\n",
       " <Experiment: artifact_location='mlflow-artifacts:/0', creation_time=1700055785031, experiment_id='0', last_update_time=1700055785031, lifecycle_stage='active', name='Default', tags={}>]"
      ]
     },
     "execution_count": 23,
     "metadata": {},
     "output_type": "execute_result"
    }
   ],
   "source": [
    "mlflow.search_experiments()"
   ]
  },
  {
   "cell_type": "code",
   "execution_count": 24,
   "id": "c9cd69b9-9219-4f94-bebe-2a10d71097e1",
   "metadata": {},
   "outputs": [
    {
     "data": {
      "text/html": [
       "<div>\n",
       "<style scoped>\n",
       "    .dataframe tbody tr th:only-of-type {\n",
       "        vertical-align: middle;\n",
       "    }\n",
       "\n",
       "    .dataframe tbody tr th {\n",
       "        vertical-align: top;\n",
       "    }\n",
       "\n",
       "    .dataframe thead th {\n",
       "        text-align: right;\n",
       "    }\n",
       "</style>\n",
       "<table border=\"1\" class=\"dataframe\">\n",
       "  <thead>\n",
       "    <tr style=\"text-align: right;\">\n",
       "      <th></th>\n",
       "      <th>run_id</th>\n",
       "      <th>experiment_id</th>\n",
       "      <th>status</th>\n",
       "      <th>artifact_uri</th>\n",
       "      <th>start_time</th>\n",
       "      <th>end_time</th>\n",
       "      <th>metrics.mse</th>\n",
       "      <th>metrics.r2</th>\n",
       "      <th>params.adabooreg</th>\n",
       "      <th>params.dtreg</th>\n",
       "      <th>...</th>\n",
       "      <th>params.est__splitter</th>\n",
       "      <th>params.est__min_samples_split</th>\n",
       "      <th>params.learning_rate</th>\n",
       "      <th>params.n_estimators</th>\n",
       "      <th>params.est__max_depth</th>\n",
       "      <th>tags.mlflow.log-model.history</th>\n",
       "      <th>tags.mlflow.runName</th>\n",
       "      <th>tags.mlflow.user</th>\n",
       "      <th>tags.mlflow.source.type</th>\n",
       "      <th>tags.mlflow.source.name</th>\n",
       "    </tr>\n",
       "  </thead>\n",
       "  <tbody>\n",
       "    <tr>\n",
       "      <th>0</th>\n",
       "      <td>4ef0362b718d4d2ba2ec3314577ea449</td>\n",
       "      <td>434640519357902442</td>\n",
       "      <td>FINISHED</td>\n",
       "      <td>mlflow-artifacts:/434640519357902442/4ef0362b7...</td>\n",
       "      <td>2023-11-22 13:10:31.996000+00:00</td>\n",
       "      <td>2023-11-22 13:10:37.447000+00:00</td>\n",
       "      <td>945886.851064</td>\n",
       "      <td>0.097613</td>\n",
       "      <td>{'n_estimators': 130, 'learning_rate': 0.36}</td>\n",
       "      <td>{'criterion': 'squared_error', 'splitter': 'be...</td>\n",
       "      <td>...</td>\n",
       "      <td>None</td>\n",
       "      <td>None</td>\n",
       "      <td>None</td>\n",
       "      <td>None</td>\n",
       "      <td>None</td>\n",
       "      <td>[{\"run_id\": \"4ef0362b718d4d2ba2ec3314577ea449\"...</td>\n",
       "      <td>AdaBooReg_20231122-1410</td>\n",
       "      <td>maxst</td>\n",
       "      <td>LOCAL</td>\n",
       "      <td>C:\\Users\\maxst\\Dropbox\\Weiterbildung\\IU\\Mods\\F...</td>\n",
       "    </tr>\n",
       "    <tr>\n",
       "      <th>1</th>\n",
       "      <td>166ae2280b4049b993fa2f15d9719ca0</td>\n",
       "      <td>434640519357902442</td>\n",
       "      <td>FINISHED</td>\n",
       "      <td>mlflow-artifacts:/434640519357902442/166ae2280...</td>\n",
       "      <td>2023-11-22 12:57:27.556000+00:00</td>\n",
       "      <td>2023-11-22 12:57:32.809000+00:00</td>\n",
       "      <td>945886.851064</td>\n",
       "      <td>0.097613</td>\n",
       "      <td>{'n_estimators': 130, 'learning_rate': 0.36}</td>\n",
       "      <td>{'criterion': 'squared_error', 'splitter': 'be...</td>\n",
       "      <td>...</td>\n",
       "      <td>None</td>\n",
       "      <td>None</td>\n",
       "      <td>None</td>\n",
       "      <td>None</td>\n",
       "      <td>None</td>\n",
       "      <td>[{\"run_id\": \"166ae2280b4049b993fa2f15d9719ca0\"...</td>\n",
       "      <td>AdaBooReg_20231122-1357</td>\n",
       "      <td>maxst</td>\n",
       "      <td>LOCAL</td>\n",
       "      <td>C:\\Users\\maxst\\Dropbox\\Weiterbildung\\IU\\Mods\\F...</td>\n",
       "    </tr>\n",
       "    <tr>\n",
       "      <th>2</th>\n",
       "      <td>be15aac7b77e405cbd4a6c6489570596</td>\n",
       "      <td>434640519357902442</td>\n",
       "      <td>FINISHED</td>\n",
       "      <td>mlflow-artifacts:/434640519357902442/be15aac7b...</td>\n",
       "      <td>2023-11-22 12:53:29.119000+00:00</td>\n",
       "      <td>2023-11-22 12:53:35.197000+00:00</td>\n",
       "      <td>945886.851064</td>\n",
       "      <td>0.097613</td>\n",
       "      <td>{'n_estimators': 130, 'learning_rate': 0.36}</td>\n",
       "      <td>{'criterion': 'squared_error', 'splitter': 'be...</td>\n",
       "      <td>...</td>\n",
       "      <td>None</td>\n",
       "      <td>None</td>\n",
       "      <td>None</td>\n",
       "      <td>None</td>\n",
       "      <td>None</td>\n",
       "      <td>[{\"run_id\": \"be15aac7b77e405cbd4a6c6489570596\"...</td>\n",
       "      <td>AdaBooReg_20231122-1353</td>\n",
       "      <td>maxst</td>\n",
       "      <td>LOCAL</td>\n",
       "      <td>C:\\Users\\maxst\\Dropbox\\Weiterbildung\\IU\\Mods\\F...</td>\n",
       "    </tr>\n",
       "    <tr>\n",
       "      <th>3</th>\n",
       "      <td>2b28bf0350fb4428a3a644d344404ee3</td>\n",
       "      <td>434640519357902442</td>\n",
       "      <td>FINISHED</td>\n",
       "      <td>mlflow-artifacts:/434640519357902442/2b28bf035...</td>\n",
       "      <td>2023-11-22 10:04:03.559000+00:00</td>\n",
       "      <td>2023-11-22 10:04:08.874000+00:00</td>\n",
       "      <td>945886.851064</td>\n",
       "      <td>0.097613</td>\n",
       "      <td>{'n_estimators': 130, 'learning_rate': 0.36}</td>\n",
       "      <td>{'criterion': 'squared_error', 'splitter': 'be...</td>\n",
       "      <td>...</td>\n",
       "      <td>None</td>\n",
       "      <td>None</td>\n",
       "      <td>None</td>\n",
       "      <td>None</td>\n",
       "      <td>None</td>\n",
       "      <td>[{\"run_id\": \"2b28bf0350fb4428a3a644d344404ee3\"...</td>\n",
       "      <td>AdaBooReg_20231122-1104</td>\n",
       "      <td>maxst</td>\n",
       "      <td>LOCAL</td>\n",
       "      <td>C:\\Users\\maxst\\Dropbox\\Weiterbildung\\IU\\Mods\\F...</td>\n",
       "    </tr>\n",
       "    <tr>\n",
       "      <th>4</th>\n",
       "      <td>8d8a6404da1a4493b371fad742bcadf9</td>\n",
       "      <td>434640519357902442</td>\n",
       "      <td>FINISHED</td>\n",
       "      <td>mlflow-artifacts:/434640519357902442/8d8a6404d...</td>\n",
       "      <td>2023-11-22 09:42:41.902000+00:00</td>\n",
       "      <td>2023-11-22 09:42:51.825000+00:00</td>\n",
       "      <td>945886.851064</td>\n",
       "      <td>0.097613</td>\n",
       "      <td>{'n_estimators': 130, 'learning_rate': 0.36}</td>\n",
       "      <td>{'criterion': 'squared_error', 'splitter': 'be...</td>\n",
       "      <td>...</td>\n",
       "      <td>None</td>\n",
       "      <td>None</td>\n",
       "      <td>None</td>\n",
       "      <td>None</td>\n",
       "      <td>None</td>\n",
       "      <td>[{\"run_id\": \"8d8a6404da1a4493b371fad742bcadf9\"...</td>\n",
       "      <td>AdaBooReg_1</td>\n",
       "      <td>maxst</td>\n",
       "      <td>LOCAL</td>\n",
       "      <td>C:\\Users\\maxst\\Dropbox\\Weiterbildung\\IU\\Mods\\F...</td>\n",
       "    </tr>\n",
       "    <tr>\n",
       "      <th>5</th>\n",
       "      <td>1e01351760c44b7a8b073329397e8d08</td>\n",
       "      <td>434640519357902442</td>\n",
       "      <td>FINISHED</td>\n",
       "      <td>mlflow-artifacts:/434640519357902442/1e0135176...</td>\n",
       "      <td>2023-11-22 09:36:01.868000+00:00</td>\n",
       "      <td>2023-11-22 09:36:13.941000+00:00</td>\n",
       "      <td>945886.851064</td>\n",
       "      <td>0.097613</td>\n",
       "      <td>{'n_estimators': 130, 'learning_rate': 0.36}</td>\n",
       "      <td>{'criterion': 'squared_error', 'splitter': 'be...</td>\n",
       "      <td>...</td>\n",
       "      <td>None</td>\n",
       "      <td>None</td>\n",
       "      <td>None</td>\n",
       "      <td>None</td>\n",
       "      <td>None</td>\n",
       "      <td>[{\"run_id\": \"1e01351760c44b7a8b073329397e8d08\"...</td>\n",
       "      <td>AdaBooReg_1</td>\n",
       "      <td>maxst</td>\n",
       "      <td>LOCAL</td>\n",
       "      <td>C:\\Users\\maxst\\Dropbox\\Weiterbildung\\IU\\Mods\\F...</td>\n",
       "    </tr>\n",
       "    <tr>\n",
       "      <th>6</th>\n",
       "      <td>b13bee8fa89a423386baccc8c86ecf5e</td>\n",
       "      <td>434640519357902442</td>\n",
       "      <td>FINISHED</td>\n",
       "      <td>mlflow-artifacts:/434640519357902442/b13bee8fa...</td>\n",
       "      <td>2023-11-22 09:20:51.059000+00:00</td>\n",
       "      <td>2023-11-22 09:21:03.843000+00:00</td>\n",
       "      <td>945886.851064</td>\n",
       "      <td>0.097613</td>\n",
       "      <td>{'n_estimators': 130, 'learning_rate': 0.36}</td>\n",
       "      <td>{'criterion': 'squared_error', 'splitter': 'be...</td>\n",
       "      <td>...</td>\n",
       "      <td>None</td>\n",
       "      <td>None</td>\n",
       "      <td>None</td>\n",
       "      <td>None</td>\n",
       "      <td>None</td>\n",
       "      <td>[{\"run_id\": \"b13bee8fa89a423386baccc8c86ecf5e\"...</td>\n",
       "      <td>AdaBooReg_1</td>\n",
       "      <td>maxst</td>\n",
       "      <td>LOCAL</td>\n",
       "      <td>C:\\Users\\maxst\\Dropbox\\Weiterbildung\\IU\\Mods\\F...</td>\n",
       "    </tr>\n",
       "    <tr>\n",
       "      <th>7</th>\n",
       "      <td>2374698eb8374f6ca6a0411aef60f465</td>\n",
       "      <td>434640519357902442</td>\n",
       "      <td>FINISHED</td>\n",
       "      <td>mlflow-artifacts:/434640519357902442/2374698eb...</td>\n",
       "      <td>2023-11-21 17:19:41.706000+00:00</td>\n",
       "      <td>2023-11-21 17:19:51.822000+00:00</td>\n",
       "      <td>945886.851064</td>\n",
       "      <td>0.097613</td>\n",
       "      <td>{'n_estimators': 130, 'learning_rate': 0.36}</td>\n",
       "      <td>{'criterion': 'squared_error', 'splitter': 'be...</td>\n",
       "      <td>...</td>\n",
       "      <td>None</td>\n",
       "      <td>None</td>\n",
       "      <td>None</td>\n",
       "      <td>None</td>\n",
       "      <td>None</td>\n",
       "      <td>[{\"run_id\": \"2374698eb8374f6ca6a0411aef60f465\"...</td>\n",
       "      <td>adabooreg_run_2</td>\n",
       "      <td>maxst</td>\n",
       "      <td>LOCAL</td>\n",
       "      <td>C:\\Users\\maxst\\Dropbox\\Weiterbildung\\IU\\Mods\\F...</td>\n",
       "    </tr>\n",
       "    <tr>\n",
       "      <th>8</th>\n",
       "      <td>cfff471e114445a4a7ead4898501ec09</td>\n",
       "      <td>434640519357902442</td>\n",
       "      <td>FINISHED</td>\n",
       "      <td>mlflow-artifacts:/434640519357902442/cfff471e1...</td>\n",
       "      <td>2023-11-19 18:48:31.871000+00:00</td>\n",
       "      <td>2023-11-19 18:48:39.025000+00:00</td>\n",
       "      <td>945886.851064</td>\n",
       "      <td>0.097613</td>\n",
       "      <td>{'n_estimators': 130, 'learning_rate': 0.36}</td>\n",
       "      <td>{'criterion': 'squared_error', 'splitter': 'be...</td>\n",
       "      <td>...</td>\n",
       "      <td>None</td>\n",
       "      <td>None</td>\n",
       "      <td>None</td>\n",
       "      <td>None</td>\n",
       "      <td>None</td>\n",
       "      <td>[{\"run_id\": \"cfff471e114445a4a7ead4898501ec09\"...</td>\n",
       "      <td>adabooreg_run_2</td>\n",
       "      <td>maxst</td>\n",
       "      <td>LOCAL</td>\n",
       "      <td>C:\\Users\\maxst\\Dropbox\\Weiterbildung\\IU\\Mods\\F...</td>\n",
       "    </tr>\n",
       "    <tr>\n",
       "      <th>9</th>\n",
       "      <td>2a0037bd7d554eb695470cabcb4cadd0</td>\n",
       "      <td>434640519357902442</td>\n",
       "      <td>FINISHED</td>\n",
       "      <td>mlflow-artifacts:/434640519357902442/2a0037bd7...</td>\n",
       "      <td>2023-11-19 18:41:57.714000+00:00</td>\n",
       "      <td>2023-11-19 18:42:12.235000+00:00</td>\n",
       "      <td>881873.744681</td>\n",
       "      <td>0.158682</td>\n",
       "      <td>{'n_estimators': 130, 'learning_rate': 0.36}</td>\n",
       "      <td>{'criterion': 'squared_error', 'splitter': 'be...</td>\n",
       "      <td>...</td>\n",
       "      <td>None</td>\n",
       "      <td>None</td>\n",
       "      <td>None</td>\n",
       "      <td>None</td>\n",
       "      <td>None</td>\n",
       "      <td>[{\"run_id\": \"2a0037bd7d554eb695470cabcb4cadd0\"...</td>\n",
       "      <td>adabooreg_run_2</td>\n",
       "      <td>maxst</td>\n",
       "      <td>LOCAL</td>\n",
       "      <td>C:\\Users\\maxst\\Dropbox\\Weiterbildung\\IU\\Mods\\F...</td>\n",
       "    </tr>\n",
       "    <tr>\n",
       "      <th>10</th>\n",
       "      <td>83e5028340da496b9917be9426ff496a</td>\n",
       "      <td>434640519357902442</td>\n",
       "      <td>FINISHED</td>\n",
       "      <td>mlflow-artifacts:/434640519357902442/83e502834...</td>\n",
       "      <td>2023-11-16 15:02:12.134000+00:00</td>\n",
       "      <td>2023-11-16 15:02:20.615000+00:00</td>\n",
       "      <td>881873.744681</td>\n",
       "      <td>0.158682</td>\n",
       "      <td>None</td>\n",
       "      <td>None</td>\n",
       "      <td>...</td>\n",
       "      <td>best</td>\n",
       "      <td>3</td>\n",
       "      <td>0.36</td>\n",
       "      <td>130</td>\n",
       "      <td>5</td>\n",
       "      <td>[{\"run_id\": \"83e5028340da496b9917be9426ff496a\"...</td>\n",
       "      <td>adabooreg_run_2</td>\n",
       "      <td>maxst</td>\n",
       "      <td>LOCAL</td>\n",
       "      <td>C:\\Users\\maxst\\Dropbox\\Weiterbildung\\IU\\Mods\\F...</td>\n",
       "    </tr>\n",
       "    <tr>\n",
       "      <th>11</th>\n",
       "      <td>f2dd461862f9449a8931f3aeabde83c8</td>\n",
       "      <td>434640519357902442</td>\n",
       "      <td>FINISHED</td>\n",
       "      <td>mlflow-artifacts:/434640519357902442/f2dd46186...</td>\n",
       "      <td>2023-11-16 14:59:17.684000+00:00</td>\n",
       "      <td>2023-11-16 14:59:28.241000+00:00</td>\n",
       "      <td>881873.744681</td>\n",
       "      <td>0.158682</td>\n",
       "      <td>None</td>\n",
       "      <td>None</td>\n",
       "      <td>...</td>\n",
       "      <td>best</td>\n",
       "      <td>3</td>\n",
       "      <td>0.36</td>\n",
       "      <td>130</td>\n",
       "      <td>5</td>\n",
       "      <td>[{\"run_id\": \"f2dd461862f9449a8931f3aeabde83c8\"...</td>\n",
       "      <td>adabooreg_run_1</td>\n",
       "      <td>maxst</td>\n",
       "      <td>LOCAL</td>\n",
       "      <td>C:\\Users\\maxst\\Dropbox\\Weiterbildung\\IU\\Mods\\F...</td>\n",
       "    </tr>\n",
       "    <tr>\n",
       "      <th>12</th>\n",
       "      <td>a304a79be21246aab1256b7e6047c18c</td>\n",
       "      <td>434640519357902442</td>\n",
       "      <td>FINISHED</td>\n",
       "      <td>mlflow-artifacts:/434640519357902442/a304a79be...</td>\n",
       "      <td>2023-11-16 11:52:48.020000+00:00</td>\n",
       "      <td>2023-11-16 11:53:00.062000+00:00</td>\n",
       "      <td>881873.744681</td>\n",
       "      <td>0.158682</td>\n",
       "      <td>None</td>\n",
       "      <td>None</td>\n",
       "      <td>...</td>\n",
       "      <td>best</td>\n",
       "      <td>3</td>\n",
       "      <td>0.36</td>\n",
       "      <td>130</td>\n",
       "      <td>5</td>\n",
       "      <td>[{\"run_id\": \"a304a79be21246aab1256b7e6047c18c\"...</td>\n",
       "      <td>adabooreg_run_1</td>\n",
       "      <td>maxst</td>\n",
       "      <td>LOCAL</td>\n",
       "      <td>C:\\Users\\maxst\\Dropbox\\Weiterbildung\\IU\\Mods\\F...</td>\n",
       "    </tr>\n",
       "    <tr>\n",
       "      <th>13</th>\n",
       "      <td>563fb8b12ee34a639705e156bc5b2085</td>\n",
       "      <td>434640519357902442</td>\n",
       "      <td>FAILED</td>\n",
       "      <td>mlflow-artifacts:/434640519357902442/563fb8b12...</td>\n",
       "      <td>2023-11-16 11:52:31.064000+00:00</td>\n",
       "      <td>2023-11-16 11:52:31.637000+00:00</td>\n",
       "      <td>881873.744681</td>\n",
       "      <td>0.158682</td>\n",
       "      <td>None</td>\n",
       "      <td>None</td>\n",
       "      <td>...</td>\n",
       "      <td>best</td>\n",
       "      <td>3</td>\n",
       "      <td>0.36</td>\n",
       "      <td>130</td>\n",
       "      <td>5</td>\n",
       "      <td>None</td>\n",
       "      <td>adabooreg_run_1</td>\n",
       "      <td>maxst</td>\n",
       "      <td>LOCAL</td>\n",
       "      <td>C:\\Users\\maxst\\Dropbox\\Weiterbildung\\IU\\Mods\\F...</td>\n",
       "    </tr>\n",
       "  </tbody>\n",
       "</table>\n",
       "<p>14 rows × 21 columns</p>\n",
       "</div>"
      ],
      "text/plain": [
       "                              run_id       experiment_id    status  \\\n",
       "0   4ef0362b718d4d2ba2ec3314577ea449  434640519357902442  FINISHED   \n",
       "1   166ae2280b4049b993fa2f15d9719ca0  434640519357902442  FINISHED   \n",
       "2   be15aac7b77e405cbd4a6c6489570596  434640519357902442  FINISHED   \n",
       "3   2b28bf0350fb4428a3a644d344404ee3  434640519357902442  FINISHED   \n",
       "4   8d8a6404da1a4493b371fad742bcadf9  434640519357902442  FINISHED   \n",
       "5   1e01351760c44b7a8b073329397e8d08  434640519357902442  FINISHED   \n",
       "6   b13bee8fa89a423386baccc8c86ecf5e  434640519357902442  FINISHED   \n",
       "7   2374698eb8374f6ca6a0411aef60f465  434640519357902442  FINISHED   \n",
       "8   cfff471e114445a4a7ead4898501ec09  434640519357902442  FINISHED   \n",
       "9   2a0037bd7d554eb695470cabcb4cadd0  434640519357902442  FINISHED   \n",
       "10  83e5028340da496b9917be9426ff496a  434640519357902442  FINISHED   \n",
       "11  f2dd461862f9449a8931f3aeabde83c8  434640519357902442  FINISHED   \n",
       "12  a304a79be21246aab1256b7e6047c18c  434640519357902442  FINISHED   \n",
       "13  563fb8b12ee34a639705e156bc5b2085  434640519357902442    FAILED   \n",
       "\n",
       "                                         artifact_uri  \\\n",
       "0   mlflow-artifacts:/434640519357902442/4ef0362b7...   \n",
       "1   mlflow-artifacts:/434640519357902442/166ae2280...   \n",
       "2   mlflow-artifacts:/434640519357902442/be15aac7b...   \n",
       "3   mlflow-artifacts:/434640519357902442/2b28bf035...   \n",
       "4   mlflow-artifacts:/434640519357902442/8d8a6404d...   \n",
       "5   mlflow-artifacts:/434640519357902442/1e0135176...   \n",
       "6   mlflow-artifacts:/434640519357902442/b13bee8fa...   \n",
       "7   mlflow-artifacts:/434640519357902442/2374698eb...   \n",
       "8   mlflow-artifacts:/434640519357902442/cfff471e1...   \n",
       "9   mlflow-artifacts:/434640519357902442/2a0037bd7...   \n",
       "10  mlflow-artifacts:/434640519357902442/83e502834...   \n",
       "11  mlflow-artifacts:/434640519357902442/f2dd46186...   \n",
       "12  mlflow-artifacts:/434640519357902442/a304a79be...   \n",
       "13  mlflow-artifacts:/434640519357902442/563fb8b12...   \n",
       "\n",
       "                         start_time                         end_time  \\\n",
       "0  2023-11-22 13:10:31.996000+00:00 2023-11-22 13:10:37.447000+00:00   \n",
       "1  2023-11-22 12:57:27.556000+00:00 2023-11-22 12:57:32.809000+00:00   \n",
       "2  2023-11-22 12:53:29.119000+00:00 2023-11-22 12:53:35.197000+00:00   \n",
       "3  2023-11-22 10:04:03.559000+00:00 2023-11-22 10:04:08.874000+00:00   \n",
       "4  2023-11-22 09:42:41.902000+00:00 2023-11-22 09:42:51.825000+00:00   \n",
       "5  2023-11-22 09:36:01.868000+00:00 2023-11-22 09:36:13.941000+00:00   \n",
       "6  2023-11-22 09:20:51.059000+00:00 2023-11-22 09:21:03.843000+00:00   \n",
       "7  2023-11-21 17:19:41.706000+00:00 2023-11-21 17:19:51.822000+00:00   \n",
       "8  2023-11-19 18:48:31.871000+00:00 2023-11-19 18:48:39.025000+00:00   \n",
       "9  2023-11-19 18:41:57.714000+00:00 2023-11-19 18:42:12.235000+00:00   \n",
       "10 2023-11-16 15:02:12.134000+00:00 2023-11-16 15:02:20.615000+00:00   \n",
       "11 2023-11-16 14:59:17.684000+00:00 2023-11-16 14:59:28.241000+00:00   \n",
       "12 2023-11-16 11:52:48.020000+00:00 2023-11-16 11:53:00.062000+00:00   \n",
       "13 2023-11-16 11:52:31.064000+00:00 2023-11-16 11:52:31.637000+00:00   \n",
       "\n",
       "      metrics.mse  metrics.r2                              params.adabooreg  \\\n",
       "0   945886.851064    0.097613  {'n_estimators': 130, 'learning_rate': 0.36}   \n",
       "1   945886.851064    0.097613  {'n_estimators': 130, 'learning_rate': 0.36}   \n",
       "2   945886.851064    0.097613  {'n_estimators': 130, 'learning_rate': 0.36}   \n",
       "3   945886.851064    0.097613  {'n_estimators': 130, 'learning_rate': 0.36}   \n",
       "4   945886.851064    0.097613  {'n_estimators': 130, 'learning_rate': 0.36}   \n",
       "5   945886.851064    0.097613  {'n_estimators': 130, 'learning_rate': 0.36}   \n",
       "6   945886.851064    0.097613  {'n_estimators': 130, 'learning_rate': 0.36}   \n",
       "7   945886.851064    0.097613  {'n_estimators': 130, 'learning_rate': 0.36}   \n",
       "8   945886.851064    0.097613  {'n_estimators': 130, 'learning_rate': 0.36}   \n",
       "9   881873.744681    0.158682  {'n_estimators': 130, 'learning_rate': 0.36}   \n",
       "10  881873.744681    0.158682                                          None   \n",
       "11  881873.744681    0.158682                                          None   \n",
       "12  881873.744681    0.158682                                          None   \n",
       "13  881873.744681    0.158682                                          None   \n",
       "\n",
       "                                         params.dtreg  ...  \\\n",
       "0   {'criterion': 'squared_error', 'splitter': 'be...  ...   \n",
       "1   {'criterion': 'squared_error', 'splitter': 'be...  ...   \n",
       "2   {'criterion': 'squared_error', 'splitter': 'be...  ...   \n",
       "3   {'criterion': 'squared_error', 'splitter': 'be...  ...   \n",
       "4   {'criterion': 'squared_error', 'splitter': 'be...  ...   \n",
       "5   {'criterion': 'squared_error', 'splitter': 'be...  ...   \n",
       "6   {'criterion': 'squared_error', 'splitter': 'be...  ...   \n",
       "7   {'criterion': 'squared_error', 'splitter': 'be...  ...   \n",
       "8   {'criterion': 'squared_error', 'splitter': 'be...  ...   \n",
       "9   {'criterion': 'squared_error', 'splitter': 'be...  ...   \n",
       "10                                               None  ...   \n",
       "11                                               None  ...   \n",
       "12                                               None  ...   \n",
       "13                                               None  ...   \n",
       "\n",
       "   params.est__splitter params.est__min_samples_split params.learning_rate  \\\n",
       "0                  None                          None                 None   \n",
       "1                  None                          None                 None   \n",
       "2                  None                          None                 None   \n",
       "3                  None                          None                 None   \n",
       "4                  None                          None                 None   \n",
       "5                  None                          None                 None   \n",
       "6                  None                          None                 None   \n",
       "7                  None                          None                 None   \n",
       "8                  None                          None                 None   \n",
       "9                  None                          None                 None   \n",
       "10                 best                             3                 0.36   \n",
       "11                 best                             3                 0.36   \n",
       "12                 best                             3                 0.36   \n",
       "13                 best                             3                 0.36   \n",
       "\n",
       "   params.n_estimators params.est__max_depth  \\\n",
       "0                 None                  None   \n",
       "1                 None                  None   \n",
       "2                 None                  None   \n",
       "3                 None                  None   \n",
       "4                 None                  None   \n",
       "5                 None                  None   \n",
       "6                 None                  None   \n",
       "7                 None                  None   \n",
       "8                 None                  None   \n",
       "9                 None                  None   \n",
       "10                 130                     5   \n",
       "11                 130                     5   \n",
       "12                 130                     5   \n",
       "13                 130                     5   \n",
       "\n",
       "                        tags.mlflow.log-model.history  \\\n",
       "0   [{\"run_id\": \"4ef0362b718d4d2ba2ec3314577ea449\"...   \n",
       "1   [{\"run_id\": \"166ae2280b4049b993fa2f15d9719ca0\"...   \n",
       "2   [{\"run_id\": \"be15aac7b77e405cbd4a6c6489570596\"...   \n",
       "3   [{\"run_id\": \"2b28bf0350fb4428a3a644d344404ee3\"...   \n",
       "4   [{\"run_id\": \"8d8a6404da1a4493b371fad742bcadf9\"...   \n",
       "5   [{\"run_id\": \"1e01351760c44b7a8b073329397e8d08\"...   \n",
       "6   [{\"run_id\": \"b13bee8fa89a423386baccc8c86ecf5e\"...   \n",
       "7   [{\"run_id\": \"2374698eb8374f6ca6a0411aef60f465\"...   \n",
       "8   [{\"run_id\": \"cfff471e114445a4a7ead4898501ec09\"...   \n",
       "9   [{\"run_id\": \"2a0037bd7d554eb695470cabcb4cadd0\"...   \n",
       "10  [{\"run_id\": \"83e5028340da496b9917be9426ff496a\"...   \n",
       "11  [{\"run_id\": \"f2dd461862f9449a8931f3aeabde83c8\"...   \n",
       "12  [{\"run_id\": \"a304a79be21246aab1256b7e6047c18c\"...   \n",
       "13                                               None   \n",
       "\n",
       "        tags.mlflow.runName tags.mlflow.user tags.mlflow.source.type  \\\n",
       "0   AdaBooReg_20231122-1410            maxst                   LOCAL   \n",
       "1   AdaBooReg_20231122-1357            maxst                   LOCAL   \n",
       "2   AdaBooReg_20231122-1353            maxst                   LOCAL   \n",
       "3   AdaBooReg_20231122-1104            maxst                   LOCAL   \n",
       "4               AdaBooReg_1            maxst                   LOCAL   \n",
       "5               AdaBooReg_1            maxst                   LOCAL   \n",
       "6               AdaBooReg_1            maxst                   LOCAL   \n",
       "7           adabooreg_run_2            maxst                   LOCAL   \n",
       "8           adabooreg_run_2            maxst                   LOCAL   \n",
       "9           adabooreg_run_2            maxst                   LOCAL   \n",
       "10          adabooreg_run_2            maxst                   LOCAL   \n",
       "11          adabooreg_run_1            maxst                   LOCAL   \n",
       "12          adabooreg_run_1            maxst                   LOCAL   \n",
       "13          adabooreg_run_1            maxst                   LOCAL   \n",
       "\n",
       "                              tags.mlflow.source.name  \n",
       "0   C:\\Users\\maxst\\Dropbox\\Weiterbildung\\IU\\Mods\\F...  \n",
       "1   C:\\Users\\maxst\\Dropbox\\Weiterbildung\\IU\\Mods\\F...  \n",
       "2   C:\\Users\\maxst\\Dropbox\\Weiterbildung\\IU\\Mods\\F...  \n",
       "3   C:\\Users\\maxst\\Dropbox\\Weiterbildung\\IU\\Mods\\F...  \n",
       "4   C:\\Users\\maxst\\Dropbox\\Weiterbildung\\IU\\Mods\\F...  \n",
       "5   C:\\Users\\maxst\\Dropbox\\Weiterbildung\\IU\\Mods\\F...  \n",
       "6   C:\\Users\\maxst\\Dropbox\\Weiterbildung\\IU\\Mods\\F...  \n",
       "7   C:\\Users\\maxst\\Dropbox\\Weiterbildung\\IU\\Mods\\F...  \n",
       "8   C:\\Users\\maxst\\Dropbox\\Weiterbildung\\IU\\Mods\\F...  \n",
       "9   C:\\Users\\maxst\\Dropbox\\Weiterbildung\\IU\\Mods\\F...  \n",
       "10  C:\\Users\\maxst\\Dropbox\\Weiterbildung\\IU\\Mods\\F...  \n",
       "11  C:\\Users\\maxst\\Dropbox\\Weiterbildung\\IU\\Mods\\F...  \n",
       "12  C:\\Users\\maxst\\Dropbox\\Weiterbildung\\IU\\Mods\\F...  \n",
       "13  C:\\Users\\maxst\\Dropbox\\Weiterbildung\\IU\\Mods\\F...  \n",
       "\n",
       "[14 rows x 21 columns]"
      ]
     },
     "execution_count": 24,
     "metadata": {},
     "output_type": "execute_result"
    }
   ],
   "source": [
    "runs = mlflow.search_runs(experiment_names=[\"AdaBooReg\"])\n",
    "runs"
   ]
  },
  {
   "cell_type": "code",
   "execution_count": null,
   "id": "a4e46ec3-4abf-407c-bbde-43b7d0030d9f",
   "metadata": {},
   "outputs": [],
   "source": []
  }
 ],
 "metadata": {
  "kernelspec": {
   "display_name": "BsdEf_venv",
   "language": "python",
   "name": "bsdef_venv"
  },
  "language_info": {
   "codemirror_mode": {
    "name": "ipython",
    "version": 3
   },
   "file_extension": ".py",
   "mimetype": "text/x-python",
   "name": "python",
   "nbconvert_exporter": "python",
   "pygments_lexer": "ipython3",
   "version": "3.10.2"
  }
 },
 "nbformat": 4,
 "nbformat_minor": 5
}
