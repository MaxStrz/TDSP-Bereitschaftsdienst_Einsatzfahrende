{
 "cells": [
  {
   "cell_type": "code",
   "execution_count": 1,
   "id": "e92014e1",
   "metadata": {},
   "outputs": [],
   "source": [
    "import os\n",
    "import sys\n",
    "from pathlib import Path\n",
    "from pprint import pprint\n",
    "\n",
    "from sklearn.model_selection import GridSearchCV, TimeSeriesSplit\n",
    "\n",
    "path_to_analysis = Path(os.getcwd()).parent / 'Analysis'\n",
    "sys.path.append(str(path_to_analysis))\n",
    "\n",
    "from dataPrep import Config, GSCVModels"
   ]
  },
  {
   "cell_type": "markdown",
   "id": "fa85c568-daf9-4a65-ae45-198fe065a452",
   "metadata": {},
   "source": [
    "#### Definiere die Form des Time-Series-Splits"
   ]
  },
  {
   "cell_type": "code",
   "execution_count": 2,
   "id": "53b87271-61e8-43ef-99b7-2ac3dcdf2de0",
   "metadata": {},
   "outputs": [],
   "source": [
    "tss = TimeSeriesSplit(n_splits=7, test_size=32, gap=15)"
   ]
  },
  {
   "cell_type": "markdown",
   "id": "354d040f-c5e9-42a9-bdbe-feb842548821",
   "metadata": {},
   "source": [
    "#### Definiere den Parameter-Grid der durchgesucht wird"
   ]
  },
  {
   "cell_type": "code",
   "execution_count": 3,
   "id": "13a9c116-5b82-4f95-b742-f945dee11225",
   "metadata": {},
   "outputs": [],
   "source": [
    "# DecisionTreeRegressor-Parameter\n",
    "est_crit = ['squared_error', 'friedman_mse', 'absolute_error']\n",
    "est_split = ['best', 'random']\n",
    "est_max_depth = [2, 3, 4, 8]\n",
    "est_min_samples_split = [2, 5]\n",
    "\n",
    "# AdaboostRegressor-Parameter\n",
    "n_estimators = [100, 130, 140]\n",
    "learning_rate = [0.36, 0.35, 0.34]\n",
    "\n",
    "dict_param_grid = {\"n_estimators\": n_estimators, \n",
    "                   #\"learning_rate\": learning_rate,\n",
    "                   #\"estimator__criterion\": est_crit,\n",
    "                   #\"estimator__splitter\": est_split,\n",
    "                   #\"estimator__max_depth\": est_max_depth,\n",
    "                   #\"estimator__min_samples_split\": est_min_samples_split,\n",
    "                   }"
   ]
  },
  {
   "cell_type": "markdown",
   "id": "91cc2c5b-d087-462e-9a9f-7b1054e57513",
   "metadata": {},
   "source": [
    "#### Mithilfe einer Klassenmethode wird die GSCVModels-Klasse instanziiert"
   ]
  },
  {
   "cell_type": "code",
   "execution_count": 4,
   "id": "70707ddf-a605-49aa-8961-320f09fcaa04",
   "metadata": {},
   "outputs": [
    {
     "name": "stdout",
     "output_type": "stream",
     "text": [
      "Pfad zur CSV-Datei: sickness_table.csv erstellt.\n",
      "Daten bereinigt und in DataFrame umgewandelt.\n",
      "Daten transformiert\n",
      "Features hinzugefügt\n"
     ]
    }
   ],
   "source": [
    "my_gscv = GSCVModels.run_adabooreg_gscv(tss, dict_param_grid)"
   ]
  },
  {
   "cell_type": "markdown",
   "id": "9f28f70d-596c-467f-93ae-ccc6661f0658",
   "metadata": {},
   "source": [
    "#### Überprüfe Parameter-Grid"
   ]
  },
  {
   "cell_type": "code",
   "execution_count": 5,
   "id": "fe7815ac-919a-45b5-bd6a-bbd4546fe488",
   "metadata": {},
   "outputs": [
    {
     "data": {
      "text/plain": [
       "{'n_estimators': [100, 130, 140]}"
      ]
     },
     "execution_count": 5,
     "metadata": {},
     "output_type": "execute_result"
    }
   ],
   "source": [
    "my_gscv.dict_param_grid"
   ]
  },
  {
   "cell_type": "markdown",
   "id": "cfa5188d-8efe-4954-82ec-9ecdcf4e0bed",
   "metadata": {},
   "source": [
    "#### Überprüfe Time-Series-Split"
   ]
  },
  {
   "cell_type": "code",
   "execution_count": 6,
   "id": "bb235f23-399d-40c5-8d9b-a2a6a8053946",
   "metadata": {},
   "outputs": [
    {
     "data": {
      "text/plain": [
       "TimeSeriesSplit(gap=15, max_train_size=None, n_splits=7, test_size=32)"
      ]
     },
     "execution_count": 6,
     "metadata": {},
     "output_type": "execute_result"
    }
   ],
   "source": [
    "my_gscv.tss"
   ]
  },
  {
   "cell_type": "markdown",
   "id": "86fb7b87-322e-4d27-8051-cd706f7ad2f0",
   "metadata": {},
   "source": [
    "#### Überprüfe Scoring-Metrik"
   ]
  },
  {
   "cell_type": "code",
   "execution_count": 8,
   "id": "d1b6facb-3d49-42b3-9932-0762217e757d",
   "metadata": {},
   "outputs": [
    {
     "data": {
      "text/plain": [
       "'neg_mean_squared_error'"
      ]
     },
     "execution_count": 8,
     "metadata": {},
     "output_type": "execute_result"
    }
   ],
   "source": [
    "my_gscv.scoring"
   ]
  },
  {
   "cell_type": "markdown",
   "id": "5c47b13f-12a4-46fe-9e75-5212bfcf5cae",
   "metadata": {},
   "source": [
    "#### Bewerte der neuen Ergebnisse"
   ]
  },
  {
   "cell_type": "code",
   "execution_count": 9,
   "id": "42b2a89e-c92c-411f-954b-f2c2e04da1ee",
   "metadata": {},
   "outputs": [
    {
     "data": {
      "text/html": [
       "<div>\n",
       "<style scoped>\n",
       "    .dataframe tbody tr th:only-of-type {\n",
       "        vertical-align: middle;\n",
       "    }\n",
       "\n",
       "    .dataframe tbody tr th {\n",
       "        vertical-align: top;\n",
       "    }\n",
       "\n",
       "    .dataframe thead th {\n",
       "        text-align: right;\n",
       "    }\n",
       "</style>\n",
       "<table border=\"1\" class=\"dataframe\">\n",
       "  <thead>\n",
       "    <tr style=\"text-align: right;\">\n",
       "      <th></th>\n",
       "      <th>rank_test_score</th>\n",
       "      <th>mean_test_score</th>\n",
       "      <th>param_n_estimators</th>\n",
       "    </tr>\n",
       "  </thead>\n",
       "  <tbody>\n",
       "    <tr>\n",
       "      <th>0</th>\n",
       "      <td>1</td>\n",
       "      <td>-1.513279e+06</td>\n",
       "      <td>100</td>\n",
       "    </tr>\n",
       "    <tr>\n",
       "      <th>1</th>\n",
       "      <td>2</td>\n",
       "      <td>-1.530274e+06</td>\n",
       "      <td>130</td>\n",
       "    </tr>\n",
       "    <tr>\n",
       "      <th>2</th>\n",
       "      <td>3</td>\n",
       "      <td>-1.532092e+06</td>\n",
       "      <td>140</td>\n",
       "    </tr>\n",
       "  </tbody>\n",
       "</table>\n",
       "</div>"
      ],
      "text/plain": [
       "   rank_test_score  mean_test_score param_n_estimators\n",
       "0                1    -1.513279e+06                100\n",
       "1                2    -1.530274e+06                130\n",
       "2                3    -1.532092e+06                140"
      ]
     },
     "execution_count": 9,
     "metadata": {},
     "output_type": "execute_result"
    }
   ],
   "source": [
    "my_gscv.df_gscv_new_results[['rank_test_score', 'mean_test_score', 'param_n_estimators']]"
   ]
  },
  {
   "cell_type": "markdown",
   "id": "639e9666-bafa-4170-a3d5-ee15ed066125",
   "metadata": {},
   "source": [
    "#### Bewerte aller Ergebnisse"
   ]
  },
  {
   "cell_type": "code",
   "execution_count": 12,
   "id": "178e0721-5be8-4d76-94d6-ce47183986d8",
   "metadata": {
    "scrolled": true
   },
   "outputs": [
    {
     "data": {
      "text/html": [
       "<div>\n",
       "<style scoped>\n",
       "    .dataframe tbody tr th:only-of-type {\n",
       "        vertical-align: middle;\n",
       "    }\n",
       "\n",
       "    .dataframe tbody tr th {\n",
       "        vertical-align: top;\n",
       "    }\n",
       "\n",
       "    .dataframe thead th {\n",
       "        text-align: right;\n",
       "    }\n",
       "</style>\n",
       "<table border=\"1\" class=\"dataframe\">\n",
       "  <thead>\n",
       "    <tr style=\"text-align: right;\">\n",
       "      <th></th>\n",
       "      <th>mean_test_score</th>\n",
       "      <th>param_n_estimators</th>\n",
       "      <th>param_learning_rate</th>\n",
       "      <th>param_estimator__max_depth</th>\n",
       "      <th>param_estimator__min_samples_split</th>\n",
       "      <th>param_estimator__splitter</th>\n",
       "      <th>param_estimator__criterion</th>\n",
       "    </tr>\n",
       "  </thead>\n",
       "  <tbody>\n",
       "    <tr>\n",
       "      <th>0</th>\n",
       "      <td>-922199.795173</td>\n",
       "      <td>130</td>\n",
       "      <td>0.36</td>\n",
       "      <td>5</td>\n",
       "      <td>3</td>\n",
       "      <td>NaN</td>\n",
       "      <td>NaN</td>\n",
       "    </tr>\n",
       "    <tr>\n",
       "      <th>1</th>\n",
       "      <td>-925965.814353</td>\n",
       "      <td>120</td>\n",
       "      <td>0.36</td>\n",
       "      <td>5</td>\n",
       "      <td>3</td>\n",
       "      <td>NaN</td>\n",
       "      <td>NaN</td>\n",
       "    </tr>\n",
       "    <tr>\n",
       "      <th>2</th>\n",
       "      <td>-930479.584658</td>\n",
       "      <td>125</td>\n",
       "      <td>0.35</td>\n",
       "      <td>5</td>\n",
       "      <td>2</td>\n",
       "      <td>best</td>\n",
       "      <td>friedman_mse</td>\n",
       "    </tr>\n",
       "    <tr>\n",
       "      <th>3</th>\n",
       "      <td>-930479.584658</td>\n",
       "      <td>125</td>\n",
       "      <td>0.35</td>\n",
       "      <td>5</td>\n",
       "      <td>2</td>\n",
       "      <td>best</td>\n",
       "      <td>squared_error</td>\n",
       "    </tr>\n",
       "    <tr>\n",
       "      <th>4</th>\n",
       "      <td>-932868.150324</td>\n",
       "      <td>100</td>\n",
       "      <td>0.35</td>\n",
       "      <td>5</td>\n",
       "      <td>5</td>\n",
       "      <td>best</td>\n",
       "      <td>squared_error</td>\n",
       "    </tr>\n",
       "    <tr>\n",
       "      <th>5</th>\n",
       "      <td>-932868.150324</td>\n",
       "      <td>100</td>\n",
       "      <td>0.35</td>\n",
       "      <td>5</td>\n",
       "      <td>5</td>\n",
       "      <td>best</td>\n",
       "      <td>friedman_mse</td>\n",
       "    </tr>\n",
       "    <tr>\n",
       "      <th>6</th>\n",
       "      <td>-933016.161261</td>\n",
       "      <td>100</td>\n",
       "      <td>0.35</td>\n",
       "      <td>5</td>\n",
       "      <td>2</td>\n",
       "      <td>best</td>\n",
       "      <td>squared_error</td>\n",
       "    </tr>\n",
       "    <tr>\n",
       "      <th>7</th>\n",
       "      <td>-933016.161261</td>\n",
       "      <td>100</td>\n",
       "      <td>0.35</td>\n",
       "      <td>5</td>\n",
       "      <td>2</td>\n",
       "      <td>best</td>\n",
       "      <td>friedman_mse</td>\n",
       "    </tr>\n",
       "    <tr>\n",
       "      <th>8</th>\n",
       "      <td>-933369.569143</td>\n",
       "      <td>150</td>\n",
       "      <td>0.35</td>\n",
       "      <td>5</td>\n",
       "      <td>2</td>\n",
       "      <td>best</td>\n",
       "      <td>squared_error</td>\n",
       "    </tr>\n",
       "    <tr>\n",
       "      <th>9</th>\n",
       "      <td>-933369.569143</td>\n",
       "      <td>150</td>\n",
       "      <td>0.35</td>\n",
       "      <td>5</td>\n",
       "      <td>2</td>\n",
       "      <td>best</td>\n",
       "      <td>friedman_mse</td>\n",
       "    </tr>\n",
       "  </tbody>\n",
       "</table>\n",
       "</div>"
      ],
      "text/plain": [
       "   mean_test_score param_n_estimators param_learning_rate  \\\n",
       "0   -922199.795173                130                0.36   \n",
       "1   -925965.814353                120                0.36   \n",
       "2   -930479.584658                125                0.35   \n",
       "3   -930479.584658                125                0.35   \n",
       "4   -932868.150324                100                0.35   \n",
       "5   -932868.150324                100                0.35   \n",
       "6   -933016.161261                100                0.35   \n",
       "7   -933016.161261                100                0.35   \n",
       "8   -933369.569143                150                0.35   \n",
       "9   -933369.569143                150                0.35   \n",
       "\n",
       "  param_estimator__max_depth param_estimator__min_samples_split  \\\n",
       "0                          5                                  3   \n",
       "1                          5                                  3   \n",
       "2                          5                                  2   \n",
       "3                          5                                  2   \n",
       "4                          5                                  5   \n",
       "5                          5                                  5   \n",
       "6                          5                                  2   \n",
       "7                          5                                  2   \n",
       "8                          5                                  2   \n",
       "9                          5                                  2   \n",
       "\n",
       "  param_estimator__splitter param_estimator__criterion  \n",
       "0                       NaN                        NaN  \n",
       "1                       NaN                        NaN  \n",
       "2                      best               friedman_mse  \n",
       "3                      best              squared_error  \n",
       "4                      best              squared_error  \n",
       "5                      best               friedman_mse  \n",
       "6                      best              squared_error  \n",
       "7                      best               friedman_mse  \n",
       "8                      best              squared_error  \n",
       "9                      best               friedman_mse  "
      ]
     },
     "execution_count": 12,
     "metadata": {},
     "output_type": "execute_result"
    }
   ],
   "source": [
    "my_gscv.df_gscv_all_results[['mean_test_score', \n",
    "                             'param_n_estimators',\n",
    "                             'param_learning_rate',\n",
    "                             'param_estimator__max_depth', \n",
    "                             'param_estimator__min_samples_split',\n",
    "                             'param_estimator__splitter',\n",
    "                             'param_estimator__criterion'\n",
    "                            ]].head(10)"
   ]
  },
  {
   "cell_type": "code",
   "execution_count": null,
   "id": "bf49af81-bce2-49f0-97f0-dd61b1b90eee",
   "metadata": {},
   "outputs": [],
   "source": []
  }
 ],
 "metadata": {
  "kernelspec": {
   "display_name": "BsdEf_venv",
   "language": "python",
   "name": "bsdef_venv"
  },
  "language_info": {
   "codemirror_mode": {
    "name": "ipython",
    "version": 3
   },
   "file_extension": ".py",
   "mimetype": "text/x-python",
   "name": "python",
   "nbconvert_exporter": "python",
   "pygments_lexer": "ipython3",
   "version": "3.10.2"
  }
 },
 "nbformat": 4,
 "nbformat_minor": 5
}
