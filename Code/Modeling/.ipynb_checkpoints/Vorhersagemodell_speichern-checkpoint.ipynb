{
 "cells": [
  {
   "cell_type": "code",
   "execution_count": 1,
   "id": "34619f5d-6b5c-4e53-92a9-c7b34148d889",
   "metadata": {},
   "outputs": [],
   "source": [
    "from datetime import date, timedelta\n",
    "import mlflow\n",
    "import numpy as np\n",
    "import os\n",
    "from pathlib import Path\n",
    "import pandas as pd\n",
    "from pandas.tseries.offsets import DateOffset\n",
    "from pprint import pprint\n",
    "import sys\n",
    "\n",
    "path_to_analysis = Path(os.getcwd()).parent / 'Analysis'\n",
    "sys.path.append(str(path_to_analysis))\n",
    "\n",
    "from dataPrep import Config, DataPrediction"
   ]
  },
  {
   "cell_type": "markdown",
   "id": "fba57743-5d9b-45f7-a962-3f410e9e3e2d",
   "metadata": {},
   "source": [
    "#### MLFlow Einstellungen definieren."
   ]
  },
  {
   "cell_type": "code",
   "execution_count": 2,
   "id": "08260418-25c0-4159-8d4a-b108962ec533",
   "metadata": {},
   "outputs": [],
   "source": [
    "mlflow.set_tracking_uri(\"http://127.0.0.1:8080\")\n",
    "\n",
    "# Create a new MLflow Experiment\n",
    "mlflow.set_experiment(\"VorhersageModell\")\n",
    "\n",
    "artifact_path = \"bereitschaftsdienstplans\""
   ]
  },
  {
   "cell_type": "markdown",
   "id": "6393327e-0d43-48d3-9bfb-3a10c6619185",
   "metadata": {},
   "source": [
    "#### Vorhersagemodell in Form eines MLFlow-Modells erstellen. "
   ]
  },
  {
   "cell_type": "code",
   "execution_count": 3,
   "id": "13d27299-4a37-4df3-bb26-89a6511bfe5c",
   "metadata": {},
   "outputs": [],
   "source": [
    "class VorhersageModell(mlflow.pyfunc.PythonModel):\n",
    "    \n",
    "    def __init__(self):\n",
    "        super().__init__()\n",
    "        self.model_adabooreg = self.load_sklearn_model(model_name='AdaBooReg', version=2)\n",
    "        self.model_trend_reg = self.load_sklearn_model(model_name='TrendRegression', version=1)\n",
    "        self.model_reg_calls_demand = self.load_sklearn_model(model_name='RegressionCallsDemand', version=1)\n",
    "        self.startdate = np.datetime64('2016-04-01')\n",
    "        self.tup_features = ('month', 'dayofmonth', 'weekday', 'weekofyear', 'dayofyear', 'season')\n",
    "\n",
    "    #def load_context(self, context):\n",
    "        \n",
    "    def load_sklearn_model(self, model_name, version):\n",
    "        \n",
    "        model_uri = f\"models:/{model_name}/{version}\"\n",
    "        \n",
    "        # Load model as a PyFuncModel.\n",
    "        loaded_model = mlflow.sklearn.load_model(model_uri=model_uri)\n",
    "\n",
    "        return loaded_model\n",
    "\n",
    "    def predict(self, context, model_input) -> pd.DataFrame:\n",
    "        \n",
    "        date = np.array([np.datetime64(date) for date in model_input])\n",
    "\n",
    "        calls_reg_pred = VorhersageModell._date_list_in_reg_out(date, self.startdate, self.model_trend_reg)\n",
    "\n",
    "        df_date = pd.DataFrame(date, columns=['date'])\n",
    "\n",
    "        df_pred = VorhersageModell.add_date_features(df_date, self.tup_features)\n",
    "\n",
    "        df_pred_2 = df_pred[list(self.tup_features)]\n",
    "\n",
    "        adabooreg_pred = self.model_adabooreg.predict(df_pred_2).reshape(-1)\n",
    "\n",
    "        pred = calls_reg_pred + adabooreg_pred\n",
    "\n",
    "        sby_plus_duty = self.model_reg_calls_demand.predict(pred.reshape(-1, 1))\n",
    "\n",
    "        # Subtrahieren von n_duty, vorausgestetzt n_duty ist 1900\n",
    "        sby_need = np.round(((sby_plus_duty - 1900).reshape(-1)), 0).astype(int)\n",
    "\n",
    "        s_sby_need = pd.Series(sby_need, name='sby_need_pred')\n",
    "\n",
    "        df_pred = pd.concat([df_pred['date'], s_sby_need], axis=1)\n",
    "\n",
    "        return df_pred\n",
    "\n",
    "    @staticmethod\n",
    "    def _date_list_in_reg_out(date: list['datetime64'],\n",
    "                              startdate: 'datetime64',\n",
    "                              model: 'sklearn-LinearRegression'\n",
    "                             ) -> np.array:\n",
    "\n",
    "        # Regression für Notrufe\n",
    "        reg_trend = model\n",
    "        x = np.array((date-startdate).astype('timedelta64[D]') + np.timedelta64(1, 'D'))\n",
    "\n",
    "        # numpy array aus series date\n",
    "        x = x.reshape(-1, 1).astype(int)\n",
    "        calls_reg_pred = reg_trend.predict(x).reshape(-1)\n",
    "\n",
    "        return calls_reg_pred\n",
    "\n",
    "    @staticmethod\n",
    "    def add_date_features(df: pd.DataFrame, features: tuple[str], date_column_name: str='date') -> pd.DataFrame:\n",
    "        df_features = df.copy()\n",
    "        c = df_features[date_column_name]\n",
    "\n",
    "        if 'month' in features:\n",
    "            df_features['month'] = c.dt.month # Monat als Zahl (1-12)\n",
    "\n",
    "        if 'year' in features:\n",
    "            df_features['year'] = c.dt.year # Jahr (4-stellig)\n",
    "        \n",
    "        if 'dayofmonth' in features:\n",
    "            df_features['dayofmonth'] = c.dt.day # Tag des Monats (1-31)\n",
    "\n",
    "        if 'weekday' in features:\n",
    "            # Wochentag als Zahl (Montag = 0, Sonntag = 6)\n",
    "            df_features['weekday'] = c.dt.weekday\n",
    "\n",
    "        if 'weekofyear' in features:\n",
    "            # Kalenderwoche als Zahl (1-52)\n",
    "            df_features['weekofyear'] = c.dt.isocalendar().week\n",
    "\n",
    "        if 'dayofyear' in features:\n",
    "            # Tag des Jahres als Zahl (1-365)\n",
    "            df_features['dayofyear'] = c.dt.dayofyear\n",
    "        \n",
    "        # Datum des 15. des vorherigen Monats\n",
    "        df_features['predict_day'] = c - DateOffset(months=1, day=15)\n",
    "\n",
    "        # Anzahl der Tage seit dem ersten Tag im Datensatz\n",
    "        df_features['day'] = (c - pd.Timestamp('2016-04-01')).dt.days + 1\n",
    "\n",
    "        if 'season' in features:\n",
    "            m = df_features['month']\n",
    "            # Jahreszeit als Zahl (1-4) (1=Winter, 2=Frühling, 3=Sommer, 4=Herbst)\n",
    "            df_features['season'] = (m-1) % 12 // 3 + 1\n",
    "\n",
    "        if 'calls' in df_features:\n",
    "            df_features['status'] = 'actual'\n",
    "        else:\n",
    "            df_features['status'] = 'prediction'\n",
    "\n",
    "        return df_features"
   ]
  },
  {
   "cell_type": "markdown",
   "id": "65f982dc-a446-4c0c-a475-a88e29a9fc6c",
   "metadata": {},
   "source": [
    "#### MLFlow-Model speichern"
   ]
  },
  {
   "cell_type": "code",
   "execution_count": 4,
   "id": "7c69c341-c0b3-49cc-b818-cafba80e6bae",
   "metadata": {},
   "outputs": [
    {
     "name": "stderr",
     "output_type": "stream",
     "text": [
      "C:\\Users\\maxst\\Dropbox\\Weiterbildung\\IU\\Mods\\FsME\\Prog\\TDSP-BsdEf\\BsdEf_venv\\lib\\site-packages\\tqdm\\auto.py:21: TqdmWarning: IProgress not found. Please update jupyter and ipywidgets. See https://ipywidgets.readthedocs.io/en/stable/user_install.html\n",
      "  from .autonotebook import tqdm as notebook_tqdm\n",
      "Downloading artifacts: 100%|██████████████████████████████████████████████████████████████████████████████████████████████████████████████████████████████████████████████████████| 6/6 [00:00<00:00, 74.77it/s]\n",
      "Downloading artifacts: 100%|██████████████████████████████████████████████████████████████████████████████████████████████████████████████████████████████████████████████████████| 5/5 [00:00<00:00, 34.25it/s]\n",
      "Downloading artifacts: 100%|██████████████████████████████████████████████████████████████████████████████████████████████████████████████████████████████████████████████████████| 5/5 [00:00<00:00, 31.68it/s]\n"
     ]
    }
   ],
   "source": [
    "# Initiate the MLflow run context\n",
    "with mlflow.start_run(run_name='4') as run:\n",
    "\n",
    "    # trainiertes Modell-Instanz protokollieren\n",
    "    mlflow.pyfunc.log_model(artifact_path=artifact_path, python_model=VorhersageModell())\n",
    "\n",
    "mlflow.end_run()"
   ]
  },
  {
   "cell_type": "markdown",
   "id": "81c36d2c-4abc-4d04-9fa2-8f3b46612a1b",
   "metadata": {},
   "source": [
    "#### MLFlow-Model vom Server laden"
   ]
  },
  {
   "cell_type": "code",
   "execution_count": 5,
   "id": "f0f20b22-acce-485b-bdd0-a5867652460c",
   "metadata": {},
   "outputs": [
    {
     "name": "stderr",
     "output_type": "stream",
     "text": [
      "Downloading artifacts: 100%|██████████████████████████████████████████████████████████████████████████████████████████████████████████████████████████████████████████████████████| 5/5 [00:00<00:00, 32.33it/s]\n"
     ]
    }
   ],
   "source": [
    "def load_model(model_name, version):\n",
    "    \n",
    "    model_uri = f\"models:/{model_name}/{version}\"\n",
    "    \n",
    "    # Load model as a PyFuncModel.\n",
    "    loaded_model = mlflow.pyfunc.load_model(model_uri=model_uri)\n",
    "\n",
    "    return loaded_model\n",
    "\n",
    "model_vorhersage = load_model(model_name='Vorhersagemodell', version=6)"
   ]
  },
  {
   "cell_type": "markdown",
   "id": "c200fa78-92e7-4157-a686-2fe2382b6908",
   "metadata": {},
   "source": [
    "#### Vorhersagedaten definieren"
   ]
  },
  {
   "cell_type": "code",
   "execution_count": 6,
   "id": "eba6b134-eeba-4515-9681-a00abb29dd68",
   "metadata": {},
   "outputs": [],
   "source": [
    "test_date = ['2019-05-27', '2019-05-28', '2019-05-29', '2019-05-30', '2019-05-31']"
   ]
  },
  {
   "cell_type": "markdown",
   "id": "c151de66-169d-4ff5-bf2b-8159eaa2906f",
   "metadata": {},
   "source": [
    "#### Vorhersagen machen"
   ]
  },
  {
   "cell_type": "code",
   "execution_count": 7,
   "id": "a724084b-fd32-43d0-be18-7baac0972c58",
   "metadata": {},
   "outputs": [
    {
     "data": {
      "text/html": [
       "<div>\n",
       "<style scoped>\n",
       "    .dataframe tbody tr th:only-of-type {\n",
       "        vertical-align: middle;\n",
       "    }\n",
       "\n",
       "    .dataframe tbody tr th {\n",
       "        vertical-align: top;\n",
       "    }\n",
       "\n",
       "    .dataframe thead th {\n",
       "        text-align: right;\n",
       "    }\n",
       "</style>\n",
       "<table border=\"1\" class=\"dataframe\">\n",
       "  <thead>\n",
       "    <tr style=\"text-align: right;\">\n",
       "      <th></th>\n",
       "      <th>date</th>\n",
       "      <th>sby_need_pred</th>\n",
       "    </tr>\n",
       "  </thead>\n",
       "  <tbody>\n",
       "    <tr>\n",
       "      <th>0</th>\n",
       "      <td>2019-05-27</td>\n",
       "      <td>-51</td>\n",
       "    </tr>\n",
       "    <tr>\n",
       "      <th>1</th>\n",
       "      <td>2019-05-28</td>\n",
       "      <td>-48</td>\n",
       "    </tr>\n",
       "    <tr>\n",
       "      <th>2</th>\n",
       "      <td>2019-05-29</td>\n",
       "      <td>-57</td>\n",
       "    </tr>\n",
       "    <tr>\n",
       "      <th>3</th>\n",
       "      <td>2019-05-30</td>\n",
       "      <td>-88</td>\n",
       "    </tr>\n",
       "    <tr>\n",
       "      <th>4</th>\n",
       "      <td>2019-05-31</td>\n",
       "      <td>-113</td>\n",
       "    </tr>\n",
       "  </tbody>\n",
       "</table>\n",
       "</div>"
      ],
      "text/plain": [
       "        date  sby_need_pred\n",
       "0 2019-05-27            -51\n",
       "1 2019-05-28            -48\n",
       "2 2019-05-29            -57\n",
       "3 2019-05-30            -88\n",
       "4 2019-05-31           -113"
      ]
     },
     "execution_count": 7,
     "metadata": {},
     "output_type": "execute_result"
    }
   ],
   "source": [
    "model_vorhersage.predict(test_date)"
   ]
  }
 ],
 "metadata": {
  "kernelspec": {
   "display_name": "BsdEf_venv",
   "language": "python",
   "name": "bsdef_venv"
  },
  "language_info": {
   "codemirror_mode": {
    "name": "ipython",
    "version": 3
   },
   "file_extension": ".py",
   "mimetype": "text/x-python",
   "name": "python",
   "nbconvert_exporter": "python",
   "pygments_lexer": "ipython3",
   "version": "3.10.2"
  }
 },
 "nbformat": 4,
 "nbformat_minor": 5
}
