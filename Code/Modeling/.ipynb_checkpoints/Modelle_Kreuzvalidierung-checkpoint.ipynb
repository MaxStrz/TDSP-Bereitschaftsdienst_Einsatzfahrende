{
 "cells": [
  {
   "cell_type": "code",
   "execution_count": 9,
   "id": "e92014e1",
   "metadata": {},
   "outputs": [],
   "source": [
    "import os\n",
    "import sys\n",
    "from pathlib import Path\n",
    "from pprint import pprint\n",
    "\n",
    "path_to_analysis = Path(os.getcwd()).parent / 'Analysis'\n",
    "sys.path.append(str(path_to_analysis))\n",
    "\n",
    "from dataPrep import CrossValidatedModels"
   ]
  },
  {
   "cell_type": "markdown",
   "id": "1ecbfaf8-ac19-4abc-af81-51fcd6bb02e9",
   "metadata": {},
   "source": [
    "#### CrossValidatedModels-Klasseninstanz mit Instanz der FeaturedData-Klasse als Attribute erstellen"
   ]
  },
  {
   "cell_type": "code",
   "execution_count": 10,
   "id": "13a9c116-5b82-4f95-b742-f945dee11225",
   "metadata": {},
   "outputs": [
    {
     "name": "stdout",
     "output_type": "stream",
     "text": [
      "Pfad zur CSV-Datei: sickness_table.csv erstellt.\n",
      "Daten bereinigt und in DataFrame umgewandelt.\n",
      "Daten transformiert\n",
      "Features hinzugefügt\n"
     ]
    }
   ],
   "source": [
    "cross_val = CrossValidatedModels()"
   ]
  },
  {
   "cell_type": "markdown",
   "id": "4eeb7204-3d58-44da-8286-c0e3a31d94db",
   "metadata": {},
   "source": [
    "#### Überprüfe welche Features für die Kreuzvalidierung verwendet werden"
   ]
  },
  {
   "cell_type": "code",
   "execution_count": 19,
   "id": "b48d2d81",
   "metadata": {},
   "outputs": [
    {
     "data": {
      "text/html": [
       "<div>\n",
       "<style scoped>\n",
       "    .dataframe tbody tr th:only-of-type {\n",
       "        vertical-align: middle;\n",
       "    }\n",
       "\n",
       "    .dataframe tbody tr th {\n",
       "        vertical-align: top;\n",
       "    }\n",
       "\n",
       "    .dataframe thead th {\n",
       "        text-align: right;\n",
       "    }\n",
       "</style>\n",
       "<table border=\"1\" class=\"dataframe\">\n",
       "  <thead>\n",
       "    <tr style=\"text-align: right;\">\n",
       "      <th></th>\n",
       "      <th>month</th>\n",
       "      <th>dayofmonth</th>\n",
       "      <th>weekday</th>\n",
       "      <th>weekofyear</th>\n",
       "      <th>dayofyear</th>\n",
       "      <th>season</th>\n",
       "    </tr>\n",
       "  </thead>\n",
       "  <tbody>\n",
       "    <tr>\n",
       "      <th>0</th>\n",
       "      <td>4</td>\n",
       "      <td>1</td>\n",
       "      <td>4</td>\n",
       "      <td>13</td>\n",
       "      <td>92</td>\n",
       "      <td>2</td>\n",
       "    </tr>\n",
       "    <tr>\n",
       "      <th>1</th>\n",
       "      <td>4</td>\n",
       "      <td>2</td>\n",
       "      <td>5</td>\n",
       "      <td>13</td>\n",
       "      <td>93</td>\n",
       "      <td>2</td>\n",
       "    </tr>\n",
       "    <tr>\n",
       "      <th>2</th>\n",
       "      <td>4</td>\n",
       "      <td>3</td>\n",
       "      <td>6</td>\n",
       "      <td>13</td>\n",
       "      <td>94</td>\n",
       "      <td>2</td>\n",
       "    </tr>\n",
       "    <tr>\n",
       "      <th>3</th>\n",
       "      <td>4</td>\n",
       "      <td>4</td>\n",
       "      <td>0</td>\n",
       "      <td>14</td>\n",
       "      <td>95</td>\n",
       "      <td>2</td>\n",
       "    </tr>\n",
       "    <tr>\n",
       "      <th>4</th>\n",
       "      <td>4</td>\n",
       "      <td>5</td>\n",
       "      <td>1</td>\n",
       "      <td>14</td>\n",
       "      <td>96</td>\n",
       "      <td>2</td>\n",
       "    </tr>\n",
       "  </tbody>\n",
       "</table>\n",
       "</div>"
      ],
      "text/plain": [
       "   month  dayofmonth  weekday  weekofyear  dayofyear  season\n",
       "0      4           1        4          13         92       2\n",
       "1      4           2        5          13         93       2\n",
       "2      4           3        6          13         94       2\n",
       "3      4           4        0          14         95       2\n",
       "4      4           5        1          14         96       2"
      ]
     },
     "execution_count": 19,
     "metadata": {},
     "output_type": "execute_result"
    }
   ],
   "source": [
    "cross_val.cls_featured_data.df_only_features.head()"
   ]
  },
  {
   "cell_type": "markdown",
   "id": "e267fdd7-3447-40bb-a917-1313a57ed2e9",
   "metadata": {},
   "source": [
    "#### Modelle bzw. Verfahren zu vergleichen"
   ]
  },
  {
   "cell_type": "code",
   "execution_count": 12,
   "id": "ed17af7e",
   "metadata": {},
   "outputs": [
    {
     "data": {
      "text/plain": [
       "['RandomForestRegressor', 'AdaBoostRegressor', 'GradientBoostingRegressor']"
      ]
     },
     "execution_count": 12,
     "metadata": {},
     "output_type": "execute_result"
    }
   ],
   "source": [
    "cross_val.model_names"
   ]
  },
  {
   "cell_type": "markdown",
   "id": "d77fde4e-919b-4a95-9230-c8fe662fb6c4",
   "metadata": {},
   "source": [
    "#### Paramater für die Kreuzvalidierung"
   ]
  },
  {
   "cell_type": "code",
   "execution_count": 13,
   "id": "7098a262-e24c-4f9a-9062-e3206d714afa",
   "metadata": {},
   "outputs": [
    {
     "data": {
      "text/plain": [
       "{'rf': {'n_estimators': 100, 'max_depth': 5, 'random_state': 42},\n",
       " 'adabr': {'n_estimators': 100, 'learning_rate': 1, 'random_state': 42},\n",
       " 'gradb': {'n_estimators': 100, 'learning_rate': 1, 'random_state': 42}}"
      ]
     },
     "execution_count": 13,
     "metadata": {},
     "output_type": "execute_result"
    }
   ],
   "source": [
    "cross_val.dict_params"
   ]
  },
  {
   "cell_type": "markdown",
   "id": "8b9b16a3-41f1-4674-be3d-81374383e454",
   "metadata": {},
   "source": [
    "#### Performanz-Bewertungskreterien, die verwendet werden sollten"
   ]
  },
  {
   "cell_type": "code",
   "execution_count": 14,
   "id": "b2dbc21c-f46d-4449-b867-aeb2408d07df",
   "metadata": {},
   "outputs": [
    {
     "data": {
      "text/plain": [
       "['neg_mean_squared_error',\n",
       " 'neg_root_mean_squared_error',\n",
       " 'neg_mean_absolute_error',\n",
       " 'r2']"
      ]
     },
     "execution_count": 14,
     "metadata": {},
     "output_type": "execute_result"
    }
   ],
   "source": [
    "cross_val.scoring"
   ]
  },
  {
   "cell_type": "markdown",
   "id": "ffc9bd0d-2520-4fc5-aff0-4ade17fb0183",
   "metadata": {},
   "source": [
    "#### Form der Time-Series-Split"
   ]
  },
  {
   "cell_type": "code",
   "execution_count": 15,
   "id": "78abe992-a649-4a0b-a2b6-a0189b0966b6",
   "metadata": {},
   "outputs": [
    {
     "data": {
      "text/plain": [
       "TimeSeriesSplit(gap=15, max_train_size=None, n_splits=7, test_size=32)"
      ]
     },
     "execution_count": 15,
     "metadata": {},
     "output_type": "execute_result"
    }
   ],
   "source": [
    "cross_val.tss"
   ]
  },
  {
   "cell_type": "markdown",
   "id": "b528dcdc-71b3-46e9-b7a2-aeae7584f87f",
   "metadata": {},
   "source": [
    "#### Performanz der jeweiligen Verfahren"
   ]
  },
  {
   "cell_type": "code",
   "execution_count": 20,
   "id": "2c704c82-5b49-488f-8c9b-964ce1ba7214",
   "metadata": {},
   "outputs": [
    {
     "data": {
      "text/html": [
       "<div>\n",
       "<style scoped>\n",
       "    .dataframe tbody tr th:only-of-type {\n",
       "        vertical-align: middle;\n",
       "    }\n",
       "\n",
       "    .dataframe tbody tr th {\n",
       "        vertical-align: top;\n",
       "    }\n",
       "\n",
       "    .dataframe thead th {\n",
       "        text-align: right;\n",
       "    }\n",
       "</style>\n",
       "<table border=\"1\" class=\"dataframe\">\n",
       "  <thead>\n",
       "    <tr style=\"text-align: right;\">\n",
       "      <th></th>\n",
       "      <th>RandomForestRegressor_mean</th>\n",
       "      <th>RandomForestRegressor_std</th>\n",
       "      <th>AdaBoostRegressor_mean</th>\n",
       "      <th>AdaBoostRegressor_std</th>\n",
       "      <th>GradientBoostingRegressor_mean</th>\n",
       "      <th>GradientBoostingRegressor_std</th>\n",
       "    </tr>\n",
       "  </thead>\n",
       "  <tbody>\n",
       "    <tr>\n",
       "      <th>mse</th>\n",
       "      <td>955753.48</td>\n",
       "      <td>98466.28</td>\n",
       "      <td>972984.06</td>\n",
       "      <td>165525.39</td>\n",
       "      <td>1487324.51</td>\n",
       "      <td>180566.49</td>\n",
       "    </tr>\n",
       "    <tr>\n",
       "      <th>rmse</th>\n",
       "      <td>976.35</td>\n",
       "      <td>50.04</td>\n",
       "      <td>983.04</td>\n",
       "      <td>81.30</td>\n",
       "      <td>1217.24</td>\n",
       "      <td>75.14</td>\n",
       "    </tr>\n",
       "    <tr>\n",
       "      <th>mae</th>\n",
       "      <td>829.53</td>\n",
       "      <td>59.78</td>\n",
       "      <td>837.58</td>\n",
       "      <td>89.10</td>\n",
       "      <td>975.48</td>\n",
       "      <td>72.34</td>\n",
       "    </tr>\n",
       "    <tr>\n",
       "      <th>r2</th>\n",
       "      <td>0.15</td>\n",
       "      <td>0.11</td>\n",
       "      <td>0.14</td>\n",
       "      <td>0.13</td>\n",
       "      <td>-0.34</td>\n",
       "      <td>0.25</td>\n",
       "    </tr>\n",
       "  </tbody>\n",
       "</table>\n",
       "</div>"
      ],
      "text/plain": [
       "      RandomForestRegressor_mean  RandomForestRegressor_std  \\\n",
       "mse                    955753.48                   98466.28   \n",
       "rmse                      976.35                      50.04   \n",
       "mae                       829.53                      59.78   \n",
       "r2                          0.15                       0.11   \n",
       "\n",
       "      AdaBoostRegressor_mean  AdaBoostRegressor_std  \\\n",
       "mse                972984.06              165525.39   \n",
       "rmse                  983.04                  81.30   \n",
       "mae                   837.58                  89.10   \n",
       "r2                      0.14                   0.13   \n",
       "\n",
       "      GradientBoostingRegressor_mean  GradientBoostingRegressor_std  \n",
       "mse                       1487324.51                      180566.49  \n",
       "rmse                         1217.24                          75.14  \n",
       "mae                           975.48                          72.34  \n",
       "r2                             -0.34                           0.25  "
      ]
     },
     "execution_count": 20,
     "metadata": {},
     "output_type": "execute_result"
    }
   ],
   "source": [
    "cross_val.df_model_performance"
   ]
  },
  {
   "cell_type": "code",
   "execution_count": 21,
   "id": "88d1e9e3-fb54-4c50-a8ed-72bb99ce3dac",
   "metadata": {},
   "outputs": [
    {
     "data": {
      "text/plain": [
       "{}"
      ]
     },
     "execution_count": 21,
     "metadata": {},
     "output_type": "execute_result"
    }
   ],
   "source": [
    "cross_val.cls_featured_data.not_used_kwargs"
   ]
  }
 ],
 "metadata": {
  "kernelspec": {
   "display_name": "BsdEf_venv",
   "language": "python",
   "name": "bsdef_venv"
  },
  "language_info": {
   "codemirror_mode": {
    "name": "ipython",
    "version": 3
   },
   "file_extension": ".py",
   "mimetype": "text/x-python",
   "name": "python",
   "nbconvert_exporter": "python",
   "pygments_lexer": "ipython3",
   "version": "3.10.2"
  }
 },
 "nbformat": 4,
 "nbformat_minor": 5
}
