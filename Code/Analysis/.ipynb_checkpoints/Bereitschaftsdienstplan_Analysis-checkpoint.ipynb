{
 "cells": [
  {
   "cell_type": "code",
   "execution_count": 1,
   "id": "791bcd9b",
   "metadata": {},
   "outputs": [
    {
     "ename": "ModuleNotFoundError",
     "evalue": "No module named 'Analysis'",
     "output_type": "error",
     "traceback": [
      "\u001b[1;31m---------------------------------------------------------------------------\u001b[0m",
      "\u001b[1;31mModuleNotFoundError\u001b[0m                       Traceback (most recent call last)",
      "Cell \u001b[1;32mIn[1], line 1\u001b[0m\n\u001b[1;32m----> 1\u001b[0m \u001b[38;5;28;01mimport\u001b[39;00m \u001b[38;5;21;01mAnalysis\u001b[39;00m\u001b[38;5;21;01m.\u001b[39;00m\u001b[38;5;21;01mdataPrep\u001b[39;00m \u001b[38;5;28;01mas\u001b[39;00m \u001b[38;5;21;01mdata_prep\u001b[39;00m\n\u001b[0;32m      2\u001b[0m df, df_build_notes, summary_list \u001b[38;5;241m=\u001b[39m data_prep\u001b[38;5;241m.\u001b[39msickness_table_df()\n\u001b[0;32m      3\u001b[0m \u001b[38;5;28mprint\u001b[39m(\u001b[38;5;124m'\u001b[39m\u001b[38;5;130;01m\\n\u001b[39;00m\u001b[38;5;124m'\u001b[39m\u001b[38;5;241m.\u001b[39mjoin(df_build_notes))\n",
      "\u001b[1;31mModuleNotFoundError\u001b[0m: No module named 'Analysis'"
     ]
    }
   ],
   "source": [
    "import dataPrep as data_prep\n",
    "df, df_build_notes, summary_list = data_prep.sickness_table_df()\n",
    "print('\\n'.join(df_build_notes))"
   ]
  }
 ],
 "metadata": {
  "kernelspec": {
   "display_name": "BsdEf_venv",
   "language": "python",
   "name": "bsdef_venv"
  },
  "language_info": {
   "codemirror_mode": {
    "name": "ipython",
    "version": 3
   },
   "file_extension": ".py",
   "mimetype": "text/x-python",
   "name": "python",
   "nbconvert_exporter": "python",
   "pygments_lexer": "ipython3",
   "version": "3.10.2"
  }
 },
 "nbformat": 4,
 "nbformat_minor": 5
}
